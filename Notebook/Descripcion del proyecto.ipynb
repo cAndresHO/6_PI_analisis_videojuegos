{
 "cells": [
  {
   "cell_type": "markdown",
   "metadata": {},
   "source": [
    "# Descripción del proyecto\n",
    "La tienda online Ice vende videojuegos por todo el mundo. Las reseñas de usuarios y expertos, los géneros, las plataformas (por ejemplo, Xbox o PlayStation) y los datos históricos sobre las ventas de juegos están disponibles en fuentes abiertas. Tienes que identificar patrones que determinen si un juego tiene éxito o no. Esto permitirá detectar proyectos prometedores y planificar campañas publicitarias.\n",
    "\n",
    "El dataset contiene una columna \"rating\" que almacena la clasificación ESRB de cada juego. El Entertainment Software Rating Board (la Junta de clasificación de software de entretenimiento) evalúa el contenido de un juego y asigna una clasificación de edad como Adolescente o Adulto."
   ]
  },
  {
   "cell_type": "markdown",
   "metadata": {},
   "source": [
    "# Descripción de datos\n",
    "— Name (Nombre)\n",
    "\n",
    "— Platform (Plataforma)\n",
    "\n",
    "— Year_of_Release (Año de lanzamiento)\n",
    "\n",
    "— Genre (Género) \n",
    "\n",
    "— NA_sales (ventas en Norteamérica en millones de dólares estadounidenses) \n",
    "\n",
    "— EU_sales (ventas en Europa en millones de dólares estadounidenses) \n",
    "\n",
    "— JP_sales (ventas en Japón en millones de dólares estadounidenses) \n",
    "\n",
    "— Other_sales (ventas en otros países en millones de dólares estadounidenses) \n",
    "\n",
    "— Critic_Score (máximo de 100) \n",
    "\n",
    "— User_Score (máximo de 10) \n",
    "\n",
    "— Rating (ESRB)"
   ]
  }
 ],
 "metadata": {
  "language_info": {
   "name": "python"
  }
 },
 "nbformat": 4,
 "nbformat_minor": 2
}
